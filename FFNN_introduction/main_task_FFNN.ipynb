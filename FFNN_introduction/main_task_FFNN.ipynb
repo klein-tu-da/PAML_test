{
  "nbformat": 4,
  "nbformat_minor": 0,
  "metadata": {
    "colab": {
      "provenance": []
    },
    "kernelspec": {
      "name": "python3",
      "display_name": "Python 3"
    },
    "language_info": {
      "name": "python"
    }
  },
  "cells": [
    {
      "cell_type": "markdown",
      "source": [
        "# Introduction to feed-forward neural networks\n",
        "\n",
        "---\n",
        "\n",
        "### Lecture: \"Physics-augmented machine learning\" @ Cyber-Physical Simulation, TU Darmstadt\n",
        "### Lecturer: Prof. Oliver Weeger\n",
        "### Content creators: Dominik K. Klein, Jasper O. Schommartz\n",
        "### Summer term 2024\n",
        "\n",
        "---\n",
        "\n",
        "\n",
        "### In this notebook, you learn...\n",
        "\n",
        "\n",
        "*   Learning goal 1\n",
        "*   Learning goal 2\n",
        "\n",
        "\n",
        "\n",
        "\n"
      ],
      "metadata": {
        "id": "CAbS69NPtdTJ"
      }
    },
    {
      "cell_type": "markdown",
      "source": [
        "### README"
      ],
      "metadata": {
        "id": "-Xin1T39xsu0"
      }
    },
    {
      "cell_type": "code",
      "source": [
        "!git clone https://github.com/klein-tu-da/PAML_test.git"
      ],
      "metadata": {
        "id": "g_-FEL0BxvLk"
      },
      "execution_count": null,
      "outputs": []
    },
    {
      "cell_type": "markdown",
      "source": [
        "## Task 1: Nonlinear regression"
      ],
      "metadata": {
        "id": "skD3hX3uxA5b"
      }
    },
    {
      "cell_type": "markdown",
      "source": [
        "## Task 2: Convex and monotonous neural networks"
      ],
      "metadata": {
        "id": "li53gWrYxJwE"
      }
    },
    {
      "cell_type": "markdown",
      "source": [
        "## Import modules"
      ],
      "metadata": {
        "id": "PxvaHpI4gRbV"
      }
    },
    {
      "cell_type": "code",
      "source": [
        "import tensorflow as tf\n",
        "import datetime\n",
        "now = datetime.datetime.now\n",
        "import PAML_test.FFNN_introduction.data as ld\n",
        "import PAML_test.FFNN_introduction.models as lm\n",
        "import PAML_test.FFNN_introduction.plots as lp"
      ],
      "metadata": {
        "id": "jwDsY3dDgZDX"
      },
      "execution_count": 2,
      "outputs": []
    },
    {
      "cell_type": "markdown",
      "source": [
        "## Load and calibrate model"
      ],
      "metadata": {
        "id": "C94yix8Ggg20"
      }
    },
    {
      "cell_type": "markdown",
      "source": [
        "Show figures of activation functions and data. Define variables here.\n"
      ],
      "metadata": {
        "id": "x-yjQ3mGhXfQ"
      }
    },
    {
      "cell_type": "code",
      "source": [
        "#   units: number of nodes in each hidden layer\n",
        "units = [32,32,1]\n",
        "\n",
        "#   acts: activation function in each hidden layer\n",
        "activation = ['softplus','softplus','linear']\n",
        "\n",
        "#   non_neg: restrict the weights in different layers to be non-negative\n",
        "non_neg = [False, True, True]\n",
        "\n",
        "#   data: 'bathtub', 'curve', 'double_curve\n",
        "data = 'curve'\n",
        "\n",
        "#   epochs: number of iterations in the optimisation process\n",
        "epochs = 100\n",
        "\n",
        " #   load model\n",
        "\n",
        "model = lm.main(units=units, activation=activation, non_neg=non_neg)\n",
        "\n",
        "#   load data\n",
        "\n",
        "xs, ys, xs_c, ys_c = ld.get_data(data)\n",
        "\n",
        "\n",
        "#   calibrate model\n",
        "\n",
        "t1 = now()\n",
        "print(t1)\n",
        "\n",
        "tf.keras.backend.set_value(model.optimizer.learning_rate, 0.002)\n",
        "h = model.fit([xs_c], [ys_c], epochs = epochs,  verbose = 2)\n",
        "\n",
        "t2 = now()\n",
        "print('it took', t2 - t1, '(sec) to calibrate the model')\n",
        "\n",
        "lp.plot_loss(h)"
      ],
      "metadata": {
        "id": "QBCtKDNwgjuu",
        "colab": {
          "base_uri": "https://localhost:8080/",
          "height": 1000
        },
        "outputId": "fca4aa77-2bfb-4224-a566-6dd462ebb16a"
      },
      "execution_count": 3,
      "outputs": [
        {
          "output_type": "stream",
          "name": "stdout",
          "text": [
            "2024-04-15 12:20:08.923134\n",
            "Epoch 1/100\n",
            "13/13 - 2s - loss: 36.3073 - 2s/epoch - 144ms/step\n",
            "Epoch 2/100\n",
            "13/13 - 0s - loss: 22.7819 - 38ms/epoch - 3ms/step\n",
            "Epoch 3/100\n",
            "13/13 - 0s - loss: 13.5976 - 41ms/epoch - 3ms/step\n",
            "Epoch 4/100\n",
            "13/13 - 0s - loss: 8.9178 - 33ms/epoch - 3ms/step\n",
            "Epoch 5/100\n",
            "13/13 - 0s - loss: 6.3050 - 38ms/epoch - 3ms/step\n",
            "Epoch 6/100\n",
            "13/13 - 0s - loss: 4.7200 - 38ms/epoch - 3ms/step\n",
            "Epoch 7/100\n",
            "13/13 - 0s - loss: 3.6734 - 33ms/epoch - 3ms/step\n",
            "Epoch 8/100\n",
            "13/13 - 0s - loss: 2.9678 - 31ms/epoch - 2ms/step\n",
            "Epoch 9/100\n",
            "13/13 - 0s - loss: 2.4418 - 38ms/epoch - 3ms/step\n",
            "Epoch 10/100\n",
            "13/13 - 0s - loss: 2.0424 - 37ms/epoch - 3ms/step\n",
            "Epoch 11/100\n",
            "13/13 - 0s - loss: 1.7494 - 36ms/epoch - 3ms/step\n",
            "Epoch 12/100\n",
            "13/13 - 0s - loss: 1.5111 - 31ms/epoch - 2ms/step\n",
            "Epoch 13/100\n",
            "13/13 - 0s - loss: 1.3180 - 27ms/epoch - 2ms/step\n",
            "Epoch 14/100\n",
            "13/13 - 0s - loss: 1.1613 - 45ms/epoch - 3ms/step\n",
            "Epoch 15/100\n",
            "13/13 - 0s - loss: 1.0313 - 32ms/epoch - 2ms/step\n",
            "Epoch 16/100\n",
            "13/13 - 0s - loss: 0.9213 - 33ms/epoch - 3ms/step\n",
            "Epoch 17/100\n",
            "13/13 - 0s - loss: 0.8285 - 33ms/epoch - 3ms/step\n",
            "Epoch 18/100\n",
            "13/13 - 0s - loss: 0.7512 - 30ms/epoch - 2ms/step\n",
            "Epoch 19/100\n",
            "13/13 - 0s - loss: 0.6859 - 35ms/epoch - 3ms/step\n",
            "Epoch 20/100\n",
            "13/13 - 0s - loss: 0.6294 - 46ms/epoch - 4ms/step\n",
            "Epoch 21/100\n",
            "13/13 - 0s - loss: 0.5821 - 44ms/epoch - 3ms/step\n",
            "Epoch 22/100\n",
            "13/13 - 0s - loss: 0.5426 - 36ms/epoch - 3ms/step\n",
            "Epoch 23/100\n",
            "13/13 - 0s - loss: 0.5083 - 34ms/epoch - 3ms/step\n",
            "Epoch 24/100\n",
            "13/13 - 0s - loss: 0.4799 - 35ms/epoch - 3ms/step\n",
            "Epoch 25/100\n",
            "13/13 - 0s - loss: 0.4554 - 36ms/epoch - 3ms/step\n",
            "Epoch 26/100\n",
            "13/13 - 0s - loss: 0.4335 - 36ms/epoch - 3ms/step\n",
            "Epoch 27/100\n",
            "13/13 - 0s - loss: 0.4160 - 29ms/epoch - 2ms/step\n",
            "Epoch 28/100\n",
            "13/13 - 0s - loss: 0.4019 - 34ms/epoch - 3ms/step\n",
            "Epoch 29/100\n",
            "13/13 - 0s - loss: 0.3891 - 31ms/epoch - 2ms/step\n",
            "Epoch 30/100\n",
            "13/13 - 0s - loss: 0.3789 - 66ms/epoch - 5ms/step\n",
            "Epoch 31/100\n",
            "13/13 - 0s - loss: 0.3700 - 47ms/epoch - 4ms/step\n",
            "Epoch 32/100\n",
            "13/13 - 0s - loss: 0.3624 - 32ms/epoch - 2ms/step\n",
            "Epoch 33/100\n",
            "13/13 - 0s - loss: 0.3557 - 36ms/epoch - 3ms/step\n",
            "Epoch 34/100\n",
            "13/13 - 0s - loss: 0.3502 - 39ms/epoch - 3ms/step\n",
            "Epoch 35/100\n",
            "13/13 - 0s - loss: 0.3453 - 38ms/epoch - 3ms/step\n",
            "Epoch 36/100\n",
            "13/13 - 0s - loss: 0.3412 - 34ms/epoch - 3ms/step\n",
            "Epoch 37/100\n",
            "13/13 - 0s - loss: 0.3377 - 37ms/epoch - 3ms/step\n",
            "Epoch 38/100\n",
            "13/13 - 0s - loss: 0.3347 - 42ms/epoch - 3ms/step\n",
            "Epoch 39/100\n",
            "13/13 - 0s - loss: 0.3323 - 33ms/epoch - 3ms/step\n",
            "Epoch 40/100\n",
            "13/13 - 0s - loss: 0.3302 - 32ms/epoch - 2ms/step\n",
            "Epoch 41/100\n",
            "13/13 - 0s - loss: 0.3282 - 30ms/epoch - 2ms/step\n",
            "Epoch 42/100\n",
            "13/13 - 0s - loss: 0.3271 - 38ms/epoch - 3ms/step\n",
            "Epoch 43/100\n",
            "13/13 - 0s - loss: 0.3255 - 35ms/epoch - 3ms/step\n",
            "Epoch 44/100\n",
            "13/13 - 0s - loss: 0.3245 - 44ms/epoch - 3ms/step\n",
            "Epoch 45/100\n",
            "13/13 - 0s - loss: 0.3235 - 44ms/epoch - 3ms/step\n",
            "Epoch 46/100\n",
            "13/13 - 0s - loss: 0.3228 - 41ms/epoch - 3ms/step\n",
            "Epoch 47/100\n",
            "13/13 - 0s - loss: 0.3222 - 43ms/epoch - 3ms/step\n",
            "Epoch 48/100\n",
            "13/13 - 0s - loss: 0.3217 - 38ms/epoch - 3ms/step\n",
            "Epoch 49/100\n",
            "13/13 - 0s - loss: 0.3212 - 40ms/epoch - 3ms/step\n",
            "Epoch 50/100\n",
            "13/13 - 0s - loss: 0.3209 - 32ms/epoch - 2ms/step\n",
            "Epoch 51/100\n",
            "13/13 - 0s - loss: 0.3207 - 37ms/epoch - 3ms/step\n",
            "Epoch 52/100\n",
            "13/13 - 0s - loss: 0.3203 - 46ms/epoch - 4ms/step\n",
            "Epoch 53/100\n",
            "13/13 - 0s - loss: 0.3202 - 40ms/epoch - 3ms/step\n",
            "Epoch 54/100\n",
            "13/13 - 0s - loss: 0.3201 - 31ms/epoch - 2ms/step\n",
            "Epoch 55/100\n",
            "13/13 - 0s - loss: 0.3198 - 44ms/epoch - 3ms/step\n",
            "Epoch 56/100\n",
            "13/13 - 0s - loss: 0.3198 - 34ms/epoch - 3ms/step\n",
            "Epoch 57/100\n",
            "13/13 - 0s - loss: 0.3196 - 37ms/epoch - 3ms/step\n",
            "Epoch 58/100\n",
            "13/13 - 0s - loss: 0.3196 - 37ms/epoch - 3ms/step\n",
            "Epoch 59/100\n",
            "13/13 - 0s - loss: 0.3195 - 29ms/epoch - 2ms/step\n",
            "Epoch 60/100\n",
            "13/13 - 0s - loss: 0.3194 - 39ms/epoch - 3ms/step\n",
            "Epoch 61/100\n",
            "13/13 - 0s - loss: 0.3193 - 40ms/epoch - 3ms/step\n",
            "Epoch 62/100\n",
            "13/13 - 0s - loss: 0.3193 - 36ms/epoch - 3ms/step\n",
            "Epoch 63/100\n",
            "13/13 - 0s - loss: 0.3192 - 29ms/epoch - 2ms/step\n",
            "Epoch 64/100\n",
            "13/13 - 0s - loss: 0.3191 - 33ms/epoch - 3ms/step\n",
            "Epoch 65/100\n",
            "13/13 - 0s - loss: 0.3191 - 34ms/epoch - 3ms/step\n",
            "Epoch 66/100\n",
            "13/13 - 0s - loss: 0.3192 - 37ms/epoch - 3ms/step\n",
            "Epoch 67/100\n",
            "13/13 - 0s - loss: 0.3190 - 39ms/epoch - 3ms/step\n",
            "Epoch 68/100\n",
            "13/13 - 0s - loss: 0.3190 - 41ms/epoch - 3ms/step\n",
            "Epoch 69/100\n",
            "13/13 - 0s - loss: 0.3192 - 37ms/epoch - 3ms/step\n",
            "Epoch 70/100\n",
            "13/13 - 0s - loss: 0.3190 - 36ms/epoch - 3ms/step\n",
            "Epoch 71/100\n",
            "13/13 - 0s - loss: 0.3188 - 34ms/epoch - 3ms/step\n",
            "Epoch 72/100\n",
            "13/13 - 0s - loss: 0.3189 - 38ms/epoch - 3ms/step\n",
            "Epoch 73/100\n",
            "13/13 - 0s - loss: 0.3188 - 33ms/epoch - 3ms/step\n",
            "Epoch 74/100\n",
            "13/13 - 0s - loss: 0.3187 - 37ms/epoch - 3ms/step\n",
            "Epoch 75/100\n",
            "13/13 - 0s - loss: 0.3188 - 30ms/epoch - 2ms/step\n",
            "Epoch 76/100\n",
            "13/13 - 0s - loss: 0.3186 - 29ms/epoch - 2ms/step\n",
            "Epoch 77/100\n",
            "13/13 - 0s - loss: 0.3186 - 29ms/epoch - 2ms/step\n",
            "Epoch 78/100\n",
            "13/13 - 0s - loss: 0.3186 - 32ms/epoch - 2ms/step\n",
            "Epoch 79/100\n",
            "13/13 - 0s - loss: 0.3187 - 30ms/epoch - 2ms/step\n",
            "Epoch 80/100\n",
            "13/13 - 0s - loss: 0.3186 - 29ms/epoch - 2ms/step\n",
            "Epoch 81/100\n",
            "13/13 - 0s - loss: 0.3186 - 38ms/epoch - 3ms/step\n",
            "Epoch 82/100\n",
            "13/13 - 0s - loss: 0.3184 - 36ms/epoch - 3ms/step\n",
            "Epoch 83/100\n",
            "13/13 - 0s - loss: 0.3184 - 41ms/epoch - 3ms/step\n",
            "Epoch 84/100\n",
            "13/13 - 0s - loss: 0.3184 - 38ms/epoch - 3ms/step\n",
            "Epoch 85/100\n",
            "13/13 - 0s - loss: 0.3182 - 35ms/epoch - 3ms/step\n",
            "Epoch 86/100\n",
            "13/13 - 0s - loss: 0.3182 - 39ms/epoch - 3ms/step\n",
            "Epoch 87/100\n",
            "13/13 - 0s - loss: 0.3183 - 40ms/epoch - 3ms/step\n",
            "Epoch 88/100\n",
            "13/13 - 0s - loss: 0.3189 - 42ms/epoch - 3ms/step\n",
            "Epoch 89/100\n",
            "13/13 - 0s - loss: 0.3182 - 31ms/epoch - 2ms/step\n",
            "Epoch 90/100\n",
            "13/13 - 0s - loss: 0.3182 - 31ms/epoch - 2ms/step\n",
            "Epoch 91/100\n",
            "13/13 - 0s - loss: 0.3182 - 31ms/epoch - 2ms/step\n",
            "Epoch 92/100\n",
            "13/13 - 0s - loss: 0.3182 - 43ms/epoch - 3ms/step\n",
            "Epoch 93/100\n",
            "13/13 - 0s - loss: 0.3179 - 37ms/epoch - 3ms/step\n",
            "Epoch 94/100\n",
            "13/13 - 0s - loss: 0.3178 - 45ms/epoch - 3ms/step\n",
            "Epoch 95/100\n",
            "13/13 - 0s - loss: 0.3178 - 40ms/epoch - 3ms/step\n",
            "Epoch 96/100\n",
            "13/13 - 0s - loss: 0.3179 - 42ms/epoch - 3ms/step\n",
            "Epoch 97/100\n",
            "13/13 - 0s - loss: 0.3186 - 35ms/epoch - 3ms/step\n",
            "Epoch 98/100\n",
            "13/13 - 0s - loss: 0.3182 - 41ms/epoch - 3ms/step\n",
            "Epoch 99/100\n",
            "13/13 - 0s - loss: 0.3176 - 40ms/epoch - 3ms/step\n",
            "Epoch 100/100\n",
            "13/13 - 0s - loss: 0.3174 - 37ms/epoch - 3ms/step\n",
            "it took 0:00:07.104035 (sec) to calibrate the model\n"
          ]
        },
        {
          "output_type": "display_data",
          "data": {
            "text/plain": [
              "<Figure size 640x480 with 1 Axes>"
            ],
            "image/png": "[encoded data removed]"
          },
          "metadata": {}
        }
      ]
    },
    {
      "cell_type": "markdown",
      "source": [
        "# Evaluate model"
      ],
      "metadata": {
        "id": "aUGp3l2_hQlG"
      }
    },
    {
      "cell_type": "code",
      "source": [
        "lp.plot_data_model(xs, ys, xs_c, ys_c, model, data, 4)"
      ],
      "metadata": {
        "id": "xUyXWfKghRw6",
        "colab": {
          "base_uri": "https://localhost:8080/",
          "height": 466
        },
        "outputId": "4870eeb9-10e0-48a2-9b6f-32b8ab03e092"
      },
      "execution_count": 4,
      "outputs": [
        {
          "output_type": "stream",
          "name": "stdout",
          "text": [
            "16/16 [==============================] - 0s 2ms/step\n"
          ]
        },
        {
          "output_type": "display_data",
          "data": {
            "text/plain": [
              "<Figure size 640x480 with 1 Axes>"
            ],
            "image/png": "[encoded data removed]"
          },
          "metadata": {}
        }
      ]
    }
  ]
}