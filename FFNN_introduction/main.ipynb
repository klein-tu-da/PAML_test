{
  "nbformat": 4,
  "nbformat_minor": 0,
  "metadata": {
    "colab": {
      "provenance": []
    },
    "kernelspec": {
      "name": "python3",
      "display_name": "Python 3"
    },
    "language_info": {
      "name": "python"
    }
  },
  "cells": [
    {
      "cell_type": "code",
      "execution_count": null,
      "metadata": {
        "id": "rN9XQs2zXMLP"
      },
      "outputs": [],
      "source": [
        "\"\"\"\n",
        "Lecture \"Physics-aware Machine Learning\" (SoSe 23/24)\n",
        "Task 1: Feed-Forward Neural Networks\n",
        "\n",
        "==================\n",
        "\n",
        "Authors: Dominik K. Klein, Jasper O. Schommartz\n",
        "Lecturer: Prof. Oliver Weeger\n",
        "\n",
        "04/2024\n",
        "\"\"\"\n",
        "\n",
        "!git clone https://github.com/klein-tu-da/PAML_test.git"
      ]
    },
    {
      "cell_type": "markdown",
      "source": [
        "# Import modules"
      ],
      "metadata": {
        "id": "PxvaHpI4gRbV"
      }
    },
    {
      "cell_type": "code",
      "source": [
        "import tensorflow as tf\n",
        "import datetime\n",
        "now = datetime.datetime.now\n",
        "import PAML_test.FFNN_introduction.data as ld\n",
        "import PAML_test.FFNN_introduction.models as lm\n",
        "import PAML_test.FFNN_introduction.plots as lp"
      ],
      "metadata": {
        "id": "jwDsY3dDgZDX"
      },
      "execution_count": 16,
      "outputs": []
    },
    {
      "cell_type": "markdown",
      "source": [
        "# Load and calibrate model"
      ],
      "metadata": {
        "id": "C94yix8Ggg20"
      }
    },
    {
      "cell_type": "markdown",
      "source": [
        "Show figures of activation functions and data. Define variables here.\n"
      ],
      "metadata": {
        "id": "x-yjQ3mGhXfQ"
      }
    },
    {
      "cell_type": "code",
      "source": [
        "#   units: number of nodes in each hidden layer\n",
        "units = [32,32,1]\n",
        "\n",
        "#   acts: activation function in each hidden layer\n",
        "activation = ['softplus','softplus','linear']\n",
        "\n",
        "#   non_neg: restrict the weights in different layers to be non-negative\n",
        "non_neg = [False, True, True]\n",
        "\n",
        "#   data: 'bathtub', 'curve', 'double_curve\n",
        "data = 'curve'\n",
        "\n",
        "#   epochs: number of iterations in the optimisation process\n",
        "epochs = 100\n",
        "\n",
        " #   load model\n",
        "\n",
        "model = lm.main(units=units, activation=activation, non_neg=non_neg)\n",
        "\n",
        "#   load data\n",
        "\n",
        "xs, ys, xs_c, ys_c = ld.get_data(data)\n",
        "\n",
        "\n",
        "#   calibrate model\n",
        "\n",
        "t1 = now()\n",
        "print(t1)\n",
        "\n",
        "tf.keras.backend.set_value(model.optimizer.learning_rate, 0.002)\n",
        "h = model.fit([xs_c], [ys_c], epochs = epochs,  verbose = 2)\n",
        "\n",
        "t2 = now()\n",
        "print('it took', t2 - t1, '(sec) to calibrate the model')\n",
        "\n",
        "lp.plot_loss(h)"
      ],
      "metadata": {
        "id": "QBCtKDNwgjuu"
      },
      "execution_count": null,
      "outputs": []
    },
    {
      "cell_type": "markdown",
      "source": [
        "# Evaluate model"
      ],
      "metadata": {
        "id": "aUGp3l2_hQlG"
      }
    },
    {
      "cell_type": "code",
      "source": [
        "lp.plot_data_model(xs, ys, xs_c, ys_c, model, data, 4)"
      ],
      "metadata": {
        "id": "xUyXWfKghRw6"
      },
      "execution_count": null,
      "outputs": []
    }
  ]
}