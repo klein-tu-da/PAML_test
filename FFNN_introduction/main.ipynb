{
  "nbformat": 4,
  "nbformat_minor": 0,
  "metadata": {
    "colab": {
      "provenance": []
    },
    "kernelspec": {
      "name": "python3",
      "display_name": "Python 3"
    },
    "language_info": {
      "name": "python"
    }
  },
  "cells": [
    {
      "cell_type": "code",
      "execution_count": null,
      "metadata": {
        "id": "rN9XQs2zXMLP"
      },
      "outputs": [],
      "source": [
        "\"\"\"\n",
        "Lecture \"Physics-aware Machine Learning\" (SoSe 23/24)\n",
        "Task 1: Feed-Forward Neural Networks\n",
        "\n",
        "==================\n",
        "\n",
        "Authors: Dominik K. Klein, Jasper O. Schommartz\n",
        "\n",
        "04/2024\n",
        "\"\"\"\n",
        "\n",
        "!git clone https://github.com/klein-tu-da/PAML_test.git\n",
        "import FFNN_introduction.main_NB as ma"
      ]
    },
    {
      "cell_type": "code",
      "source": [
        "#   units: number of nodes in each hidden layer\n",
        "units = [32,32,1]\n",
        "\n",
        "#   acts: activation function in each hidden layer\n",
        "activation = ['softplus','softplus','linear']\n",
        "\n",
        "#   non_neg: restrict the weights in different layers to be non-negative\n",
        "non_neg = [False, True, True]\n",
        "\n",
        "#   data: 'bathtub', 'curve', 'double_curve\n",
        "data = 'curve'\n",
        "\n",
        "#   epochs: number of iterations in the optimisation process\n",
        "epochs = 10\n",
        "\n",
        "ma.one_dimensional_functions(units, activation, non_neg, data, epochs)"
      ],
      "metadata": {
        "id": "UdEhjTC1bfdy"
      },
      "execution_count": null,
      "outputs": []
    }
  ]
}